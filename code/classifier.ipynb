{
 "cells": [
  {
   "cell_type": "code",
   "execution_count": null,
   "metadata": {
    "colab": {
     "base_uri": "https://localhost:8080/",
     "height": 124
    },
    "colab_type": "code",
    "id": "xNPWEdK9NaIu",
    "outputId": "b4c624ae-3679-488e-8561-a07173e5e35f"
   },
   "outputs": [],
   "source": [
    "from google.colab import drive\n",
    "drive.mount('/content/drive')"
   ]
  },
  {
   "cell_type": "code",
   "execution_count": null,
   "metadata": {
    "colab": {},
    "colab_type": "code",
    "id": "b8kZKm_vNaIZ"
   },
   "outputs": [],
   "source": [
    "#Pre processing\n",
    "import cv2\n",
    "import numpy as np\n",
    "from tqdm import tqdm\n",
    "import glob\n",
    "import re\n",
    "\n",
    "def atoi(text):\n",
    "    return int(text) if text.isdigit() else text\n",
    "\n",
    "def natural_keys(text):\n",
    "    return [ atoi(c) for c in re.split('(\\d+)',text)]\n",
    "\n",
    "def getData(data,path,label,imgSize,training):    \n",
    "    names = []\n",
    "    for filename in glob.glob(path):\n",
    "        names.append(filename)\n",
    "        \n",
    "    if(training == False):\n",
    "        names.sort(key=natural_keys)\n",
    "\n",
    "    for filename in tqdm(names):\n",
    "        img = cv2.imread(filename, cv2.IMREAD_GRAYSCALE)       \n",
    "        img = cv2.resize(img, (imgSize,imgSize))\n",
    "        data.append([np.array(img),label])\n",
    "\n",
    "\n",
    "def preProcessData(paths,training):\n",
    "    data = []\n",
    "    labels = len(paths)\n",
    "    imgSize = 50\n",
    "    count = []\n",
    "     \n",
    "    for i in range(labels):\n",
    "        ci = getData(data,paths[i],np.eye(labels)[i],imgSize,training)\n",
    "        count.append(ci)\n",
    "    \n",
    "    if(training):\n",
    "        np.random.shuffle(data)\n",
    "        np.save(\"trainingdata.npy\", data)\n",
    "    else:\n",
    "        np.save(\"testdata.npy\",data)\n",
    "      "
   ]
  },
  {
   "cell_type": "code",
   "execution_count": null,
   "metadata": {
    "colab": {},
    "colab_type": "code",
    "id": "Qv73VkEpNaIe"
   },
   "outputs": [],
   "source": [
    "preProcessingTraining = False\n",
    "preProcessingTest = False\n",
    "\n",
    "if preProcessingTraining:\n",
    "    training = True\n",
    "    paths = [\"dog-vs-cats/train/cat/*.jpg\",\n",
    "             \"dog-vs-cats/train/dog/*.jpg\"]\n",
    "    preProcessData(paths,training)  \n",
    "\n",
    "if preProcessingTest:\n",
    "    training = False\n",
    "    paths = [\"dog-vs-cats/test1/*.jpg\"]\n",
    "    preProcessData(paths,training) \n",
    "    \n",
    "    \n",
    "trainingData = np.load(\"/content/drive/My Drive/Colab/trainingdata.npy\",allow_pickle = True)\n",
    "testData = np.load(\"/content/drive/My Drive/Colab/testdata.npy\",allow_pickle = True)\n"
   ]
  },
  {
   "cell_type": "code",
   "execution_count": null,
   "metadata": {
    "colab": {
     "base_uri": "https://localhost:8080/",
     "height": 284
    },
    "colab_type": "code",
    "id": "o0pv15lZNaIh",
    "outputId": "fa336889-4348-40e4-93bc-2a5bd5756ef9"
   },
   "outputs": [],
   "source": [
    "import matplotlib.pyplot as plt\n",
    "plt.imshow(testData[12499][0])\n",
    "print(testData[12499][1])\n",
    "plt.show()\n",
    "\n",
    "# print(len(trainingData))\n",
    "# print(len(testData))"
   ]
  },
  {
   "cell_type": "code",
   "execution_count": null,
   "metadata": {
    "colab": {
     "base_uri": "https://localhost:8080/",
     "height": 139
    },
    "colab_type": "code",
    "id": "AZda9uw0NaIj",
    "outputId": "84d9040e-2b61-4666-e214-ee4cea0e6317"
   },
   "outputs": [],
   "source": [
    "import torch\n",
    "import torch.nn as nn\n",
    "import torch.nn.functional as F\n",
    "\n",
    "class Net(nn.Module):\n",
    "    def __init__(self):\n",
    "        super().__init__() # just run the init of parent class (nn.Module)\n",
    "        self.conv1 = nn.Conv2d(1, 32, 5) # input is 1 image, 32 output channels, 5x5 kernel / window\n",
    "        self.conv2 = nn.Conv2d(32, 64, 5) # input is 32, bc the first layer output 32. Then we say the output will be 64 channels, 5x5 kernel / window\n",
    "        self.conv3 = nn.Conv2d(64, 128, 5)\n",
    "\n",
    "        x = torch.randn(50,50).view(-1,1,50,50)\n",
    "        self._to_linear = None\n",
    "        self.convs(x)\n",
    "\n",
    "        self.fc1 = nn.Linear(self._to_linear, 512) #flattening.\n",
    "        self.fc2 = nn.Linear(512, 2) # 512 in, 2 out bc we're doing 2 classes (dog vs cat).\n",
    "\n",
    "    def convs(self, x):\n",
    "        # max pooling over 2x2\n",
    "        x = F.max_pool2d(F.relu(self.conv1(x)), (2, 2))\n",
    "        x = F.max_pool2d(F.relu(self.conv2(x)), (2, 2))\n",
    "        x = F.max_pool2d(F.relu(self.conv3(x)), (2, 2))\n",
    "\n",
    "        if self._to_linear is None:\n",
    "            self._to_linear = x[0].shape[0]*x[0].shape[1]*x[0].shape[2]\n",
    "        return x\n",
    "\n",
    "    def forward(self, x):\n",
    "        x = self.convs(x)\n",
    "        x = x.view(-1, self._to_linear)  # .view is reshape ... this flattens X before \n",
    "        x = F.relu(self.fc1(x))\n",
    "        x = self.fc2(x) # bc this is our output layer. No activation here.\n",
    "        return F.softmax(x, dim=1)\n",
    "\n",
    "\n",
    "net = Net()\n",
    "print(net)\n"
   ]
  },
  {
   "cell_type": "code",
   "execution_count": null,
   "metadata": {
    "colab": {},
    "colab_type": "code",
    "id": "1njAkhRW3AVf"
   },
   "outputs": [],
   "source": [
    "import torch\n",
    "import torch.nn as nn\n",
    "import torch.nn.functional as F\n",
    "import torch.optim as optim\n",
    "\n",
    "\n",
    "def accuracy(testX,testY):\n",
    "    correct = 0\n",
    "    total = 0\n",
    "    with torch.no_grad():\n",
    "        for i in tqdm(range(len(testX))):\n",
    "            real_class = torch.argmax(testY[i])\n",
    "            net_out = net(testX[i].view(-1, 1, 50, 50))[0]  # returns a list, \n",
    "            predicted_class = torch.argmax(net_out)\n",
    "\n",
    "            if predicted_class == real_class:\n",
    "                correct += 1\n",
    "            total += 1\n",
    "    print(\"Accuracy: \", round(correct/total, 3))\n",
    "    return round(correct/total,3)\n",
    "\n",
    "def predict(testX):\n",
    "    testY = []\n",
    "    with torch.no_grad():\n",
    "        for i in tqdm(range(len(testX))):\n",
    "            net_out = net(testX[i].view(-1, 1, 50, 50))[0] # returns a list, \n",
    "            predicted_class = torch.argmax(net_out)\n",
    "            testY.append(predicted_class)\n",
    "            \n",
    "    x = np.arange(len(testX))\n",
    "    y = np.array(testY)\n",
    "    sol = np.column_stack((x,y))\n",
    "    np.savetxt('solution.csv',sol, delimiter=',')\n",
    "\n",
    "\n",
    "\n",
    "\n",
    "def train(trainX,trainY,epochs,batchSize,learningRate,trainingInfo = False):\n",
    "    optimizer = optim.Adam(net.parameters(), lr=learningRate)\n",
    "    loss_function = nn.MSELoss()\n",
    "     \n",
    "    Loss  = []\n",
    "    Accuracy = []\n",
    "    for  epoch in range(epochs):\n",
    "        for i in tqdm(range(0, len(trainX), batchSize)): \n",
    "                batchX = trainX[i:i+batchSize].view(-1,1,50,50)\n",
    "                batchY = trainY[i:i+batchSize]\n",
    "                \n",
    "                net.zero_grad()\n",
    "                outputs = net(batchX)\n",
    "                loss = loss_function(outputs, batchY)\n",
    "                loss.backward()\n",
    "                optimizer.step()\n",
    "        \n",
    "        if(trainingInfo):\n",
    "             acc = accuracy(trainX,trainY)\n",
    "             Accuracy.append(acc)\n",
    "             Loss.append(loss)\n",
    "             print(f\"Epoch: {epoch}. Loss: {loss}. Accuracy:{acc}\")\n",
    "    return Loss,Accuracy\n",
    "           \n",
    "  "
   ]
  },
  {
   "cell_type": "code",
   "execution_count": null,
   "metadata": {
    "colab": {
     "base_uri": "https://localhost:8080/",
     "height": 272
    },
    "colab_type": "code",
    "id": "X6fV1LPENaIq",
    "outputId": "b69d6ed6-0578-44bd-b6db-8f1852850f3d"
   },
   "outputs": [],
   "source": [
    "\n",
    "################################################################################\n",
    "#                    Training\n",
    "################################################################################\n",
    "x = torch.Tensor([i[0] for i in trainingData]).view(-1,50,50)\n",
    "x = x/255.0\n",
    "y = torch.Tensor([i[1] for i in trainingData])\n",
    "\n",
    "VAL_PCT = 0.1  \n",
    "val_size = int(len(x)*VAL_PCT)\n",
    "print(val_size)\n",
    "\n",
    "\n",
    "trainX = x[:-val_size]\n",
    "trainY = y[:-val_size]\n",
    "\n",
    "\n",
    "batchSize = 100\n",
    "epochs = 20\n",
    "learningRate = 0.001\n",
    "trainingInfo = True\n",
    "\n",
    "Loss,Accuracy= train(trainX,trainY,epochs,batchSize,learningRate,trainingInfo)\n",
    "\n",
    "\n",
    "\n"
   ]
  },
  {
   "cell_type": "code",
   "execution_count": null,
   "metadata": {
    "colab": {},
    "colab_type": "code",
    "id": "lJIlCf75QMaV"
   },
   "outputs": [],
   "source": [
    "#############################################################################\n",
    "#                    Plot Training Results\n",
    "#############################################################################\n",
    "\n",
    "import matplotlib.pyplot as plt\n",
    "import numpy as np\n",
    "\n",
    "\n",
    "fig,ax = plt.subplots()\n",
    "fig,ax2 = plt.subplots()\n",
    "\n",
    "Accuracy = np.array(Accuracy)*100\n",
    "Loss = np.array(Loss)\n",
    "epochs = np.arange(10)\n",
    "\n",
    "\n",
    "ax.plot(epochs,Accuracy)\n",
    "ax.set_title(\"Accuracy Vs Epochs\")\n",
    "ax.set_ylabel(\"Accuracy\")\n",
    "ax.set_xlabel(\"Epochs\")\n",
    "\n",
    "ax2.plot(epochs,Loss)\n",
    "ax2.set_title(\"loss Vs Epochs\")\n",
    "ax2.set_ylabel(\"Loss\")\n",
    "ax2.set_xlabel(\"Epochs\")\n",
    "plt.show()\n",
    "\n"
   ]
  },
  {
   "cell_type": "code",
   "execution_count": null,
   "metadata": {
    "colab": {},
    "colab_type": "code",
    "id": "Ybd6SDp34KyG"
   },
   "outputs": [],
   "source": [
    "###############################################################################\n",
    "#                     Validation\n",
    "###############################################################################    \n",
    "vTrainX = x[-val_size:]\n",
    "vTrainY = y[-val_size:]   \n",
    "Accuracy = []\n",
    "\n",
    "accuracy(vTrainX,vTrainY)\n",
    "\n"
   ]
  },
  {
   "cell_type": "code",
   "execution_count": null,
   "metadata": {
    "colab": {
     "base_uri": "https://localhost:8080/",
     "height": 712
    },
    "colab_type": "code",
    "id": "bzDqRvlHYVYT",
    "outputId": "9309c877-c410-4025-d19e-a4f21752e59b"
   },
   "outputs": [],
   "source": [
    "#############################################################################\n",
    "#           Training with remaining portion of Training data             \n",
    "#############################################################################\n",
    "batchSize = 100\n",
    "epochs = 6\n",
    "learningRate = 0.001\n",
    "trainingInfo = True\n",
    "\n",
    "Loss,Accuracy= train(vTrainX,vTrainY,epochs,batchSize,learningRate,trainingInfo)\n",
    "\n"
   ]
  },
  {
   "cell_type": "code",
   "execution_count": null,
   "metadata": {
    "colab": {},
    "colab_type": "code",
    "id": "YIPIUj9YaVqr"
   },
   "outputs": [],
   "source": []
  },
  {
   "cell_type": "code",
   "execution_count": null,
   "metadata": {
    "colab": {},
    "colab_type": "code",
    "id": "BcoLJ70Vaehy"
   },
   "outputs": [],
   "source": [
    "#############################################################################\n",
    "#                    Plot Test Results\n",
    "#############################################################################\n",
    "\n",
    "import matplotlib.pyplot as plt\n",
    "import numpy as np\n",
    "\n",
    "\n",
    "fig,ax = plt.subplots()\n",
    "fig,ax2 = plt.subplots()\n",
    "\n",
    "Accuracy = np.array(Accuracy)*100\n",
    "Loss = np.array(Loss)\n",
    "epochs = np.arange(10)\n",
    "\n",
    "\n",
    "ax.plot(epochs,Accuracy)\n",
    "ax.set_title(\"Accuracy Vs Epochs\")\n",
    "ax.set_ylabel(\"Accuracy\")\n",
    "ax.set_xlabel(\"Epochs\")\n",
    "\n",
    "ax2.plot(epochs,Loss)\n",
    "ax2.set_title(\"loss Vs Epochs\")\n",
    "ax2.set_ylabel(\"Loss\")\n",
    "ax2.set_xlabel(\"Epochs\")\n",
    "plt.show()\n",
    "\n",
    "\n"
   ]
  },
  {
   "cell_type": "code",
   "execution_count": null,
   "metadata": {
    "colab": {},
    "colab_type": "code",
    "id": "tuaFoJWHNaIx"
   },
   "outputs": [],
   "source": [
    "\n",
    "\n",
    "#############################################################################\n",
    "#                     Prediction for new data\n",
    "#############################################################################\n",
    "x = torch.Tensor([i[0] for i in testData]).view(-1,50,50)\n",
    "x = x/255.0\n",
    "predict(x)"
   ]
  },
  {
   "cell_type": "code",
   "execution_count": null,
   "metadata": {
    "colab": {},
    "colab_type": "code",
    "id": "_-8jQyepNaI5"
   },
   "outputs": [],
   "source": []
  }
 ],
 "metadata": {
  "accelerator": "TPU",
  "colab": {
   "collapsed_sections": [],
   "name": "classifier.ipynb",
   "provenance": []
  },
  "kernelspec": {
   "display_name": "Python 3",
   "language": "python",
   "name": "python3"
  },
  "language_info": {
   "codemirror_mode": {
    "name": "ipython",
    "version": 3
   },
   "file_extension": ".py",
   "mimetype": "text/x-python",
   "name": "python",
   "nbconvert_exporter": "python",
   "pygments_lexer": "ipython3",
   "version": "3.6.3"
  }
 },
 "nbformat": 4,
 "nbformat_minor": 1
}
